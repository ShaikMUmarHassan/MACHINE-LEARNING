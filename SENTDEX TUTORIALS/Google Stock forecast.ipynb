{
 "cells": [
  {
   "cell_type": "code",
   "execution_count": 2,
   "metadata": {},
   "outputs": [
    {
     "name": "stdout",
     "output_type": "stream",
     "text": [
      "            Adj. Close   HL. PCT   OC. PCT  Adj. Volume      label\n",
      "Date                                                              \n",
      "2004-08-19   50.322842  8.441017 -0.323915   44659000.0  69.399229\n",
      "2004-08-20   54.322689  8.537313 -6.739913   22834300.0  68.752232\n",
      "2004-08-23   54.869377  4.062357  1.243144   18256100.0  69.639972\n",
      "2004-08-24   52.597363  7.753210  6.074187   15247300.0  69.078238\n",
      "2004-08-25   53.164113  3.966115 -1.169811    9188600.0  67.839414\n"
     ]
    }
   ],
   "source": [
    "import pandas as pd\n",
    "import quandl \n",
    "import math\n",
    "import numpy as np\n",
    "from sklearn import preprocessing, cross_validation,svm\n",
    "from sklearn.\n",
    "\n",
    "df = quandl.get('WIKI/GOOGL')\n",
    "df= df[['Adj. High','Adj. Low','Adj. Open','Adj. Close','Adj. Volume']]\n",
    "df['HL. PCT']= ((df['Adj. High']-df['Adj. Low'])/df['Adj. Low'])*100\n",
    "df['OC. PCT']= ((df['Adj. Open']-df['Adj. Close'])/df['Adj. Close'])*100\n",
    "df= df[['Adj. Close','HL. PCT','OC. PCT','Adj. Volume']]\n",
    "\n",
    "forcast_col ='Adj. Close'\n",
    "df.fillna(-99999,inplace=True) #to fill na blocks\n",
    "\n",
    "\n",
    "forcast_out = int(math.ceil(0.01*len(df))) #used to shift lable col by 1%into future\n",
    "df['label'] = df[forcast_col].shift(-forcast_out) #creates new col with forcasr_col shifted by 1% into  future\n",
    "df.dropna(inplace=True) #drops all rows with na in it \n",
    "\n",
    "print(df.head()) #prints only head of data"
   ]
  },
  {
   "cell_type": "code",
   "execution_count": null,
   "metadata": {
    "collapsed": true
   },
   "outputs": [],
   "source": []
  }
 ],
 "metadata": {
  "kernelspec": {
   "display_name": "Python 3",
   "language": "python",
   "name": "python3"
  },
  "language_info": {
   "codemirror_mode": {
    "name": "ipython",
    "version": 3
   },
   "file_extension": ".py",
   "mimetype": "text/x-python",
   "name": "python",
   "nbconvert_exporter": "python",
   "pygments_lexer": "ipython3",
   "version": "3.6.1"
  }
 },
 "nbformat": 4,
 "nbformat_minor": 2
}
